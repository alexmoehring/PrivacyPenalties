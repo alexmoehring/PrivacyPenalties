{
 "cells": [
  {
   "cell_type": "code",
   "execution_count": null,
   "metadata": {},
   "outputs": [],
   "source": []
  },
  {
   "cell_type": "code",
   "execution_count": 176,
   "metadata": {},
   "outputs": [],
   "source": [
    "import pandas as pd\n",
    "import NewsSocialSignaling\n",
    "import os\n",
    "import pickle\n",
    "import numpy as np\n",
    "import tqdm\n",
    "import ResearchTools\n",
    "from IPython.display import Image\n",
    "import implicit\n",
    "from scipy import sparse\n",
    "import statsmodels.formula.api as smf"
   ]
  },
  {
   "cell_type": "markdown",
   "metadata": {},
   "source": [
    "## Read data"
   ]
  },
  {
   "cell_type": "code",
   "execution_count": 177,
   "metadata": {},
   "outputs": [
    {
     "name": "stdout",
     "output_type": "stream",
     "text": [
      "     canonical  twitter_id  hardScoreSum  numHardArticles  numArticles  \\\n",
      "0   10best.com  17389704.0   4353.245115             2277        19437   \n",
      "1   10news.com   9616062.0   5037.951620             5430         7965   \n",
      "2     10tv.com  15304100.0   2824.105864             2924         3938   \n",
      "3  11alive.com  14268564.0   6121.475973             6048         9885   \n",
      "4   12news.com  17187236.0   4835.549924             4535         8963   \n",
      "\n",
      "    domain single_twitter_handle  num_followers  hard_score  hard_score_old  \\\n",
      "0   10best                10best        15398.0    0.117148        0.223967   \n",
      "1   10news                10news       176243.0    0.681733        0.632511   \n",
      "2     10tv                  10tv       330563.0    0.742509        0.717142   \n",
      "3  11alive           11alivenews       398314.0    0.611836        0.619269   \n",
      "4   12news                12news       218352.0    0.505969        0.539501   \n",
      "\n",
      "   score  rounded_n_shares  rounded_n_accts     slant  hard_score_quantile  \\\n",
      "0    NaN              2200             1300  0.022035             0.054974   \n",
      "1    NaN               200              200  0.225994             0.747644   \n",
      "2    NaN               100              100  0.140854             0.825131   \n",
      "3    NaN              1200              900  0.063447             0.641361   \n",
      "4    NaN              1100              600  0.059047             0.444503   \n",
      "\n",
      "   slant_raw  slant_raw_quantile  slant_quantile  \n",
      "0     0.1881            0.371154        0.123195  \n",
      "1     0.3315            0.607692        0.728585  \n",
      "2     0.1897            0.375962        0.576516  \n",
      "3     0.1037            0.203846        0.327238  \n",
      "4     0.1167            0.223077        0.310876  \n"
     ]
    }
   ],
   "source": [
    "twitter_path = 'C:/Users/moehring/Dropbox (Personal)/Projects/NewsSocialSignaling/data/raw/newspaper_quality'\n",
    "fn = os.path.join(twitter_path, 'newspaper_quality_processed_all_pubs.txt')\n",
    "\n",
    "pubs = pd.read_table(fn, sep='\\t')\n",
    "pubs.single_twitter_handle = pubs.single_twitter_handle.apply(lambda v: v.lower())\n",
    "print(pubs.head())\n",
    "\n",
    "# filter a few\n",
    "pubs = pubs.loc[pubs.single_twitter_handle != 'barackobama']"
   ]
  },
  {
   "cell_type": "code",
   "execution_count": 178,
   "metadata": {},
   "outputs": [],
   "source": [
    "# load random sample\n",
    "sample_name = 'random_sample_2013'\n",
    "\n",
    "tmp_fn = 'C:/users/moehring/Downloads/tmp_twitters.p'\n",
    "if True and os.path.exists(tmp_fn):\n",
    "    with open(tmp_fn, 'rb') as f:\n",
    "        existing_users = pickle.load(f)\n",
    "else:\n",
    "    existing_users = [el for el in NewsSocialSignaling.Database.get_all_users()\n",
    "                      if isinstance(el['extra_data'], dict)\n",
    "                      and 'sample_name' in el['extra_data']\n",
    "                      and el['extra_data']['sample_name'] == sample_name\n",
    "                      and not el['most_recent'].protected\n",
    "                      ]\n",
    "    with open(tmp_fn, 'wb') as f:\n",
    "        pickle.dump(existing_users, f)"
   ]
  },
  {
   "cell_type": "markdown",
   "metadata": {},
   "source": [
    "## Process / clean data"
   ]
  },
  {
   "cell_type": "code",
   "execution_count": 179,
   "metadata": {},
   "outputs": [
    {
     "name": "stderr",
     "output_type": "stream",
     "text": [
      "100%|██████████████████████████████████████████████████████████████████████████████████████████████████████████████| 11075/11075 [00:03<00:00, 2828.83it/s]"
     ]
    },
    {
     "name": "stdout",
     "output_type": "stream",
     "text": [
      "       pubid  follow   user\n",
      "0   telegram     1.0  60453\n",
      "1         f1     1.0  60453\n",
      "2  foxsports     1.0  60453\n",
      "3       uefa     1.0  60453\n",
      "4        mls     1.0  60453\n"
     ]
    },
    {
     "name": "stderr",
     "output_type": "stream",
     "text": [
      "\n"
     ]
    }
   ],
   "source": [
    "# ingest into user / publisher matrix\n",
    "wide_df = pd.DataFrame(np.nan, index=[el['id'] for el in existing_users], columns=pubs.single_twitter_handle)\n",
    "long_df = pd.DataFrame(columns=['pubid', 'follow', 'user'])\n",
    "pubid2twitter = dict((row[1]['twitter_id'], row[1]['single_twitter_handle']) for row in pubs.iterrows())\n",
    "for user in tqdm.tqdm(existing_users):\n",
    "    friends = user['most_recent_friends']\n",
    "    pub_friends = [el for el in friends if el in pubid2twitter]\n",
    "    for p in pub_friends:\n",
    "        row_ix = len(long_df)\n",
    "        long_df.loc[row_ix, 'pubid'] = pubid2twitter[p]\n",
    "        long_df.loc[row_ix, 'follow'] = 1\n",
    "        long_df.loc[row_ix, 'user'] = user['id']\n",
    "        wide_df.loc[user['id'], pubid2twitter[p]] = 1\n",
    "long_df.follow = long_df.follow.astype(float)\n",
    "long_df.pubid = long_df.pubid.astype('category')\n",
    "long_df.user = long_df.user.astype('category')\n",
    "print(long_df.head())\n",
    "df = long_df"
   ]
  },
  {
   "cell_type": "markdown",
   "metadata": {},
   "source": [
    "## Summaries"
   ]
  },
  {
   "cell_type": "code",
   "execution_count": 180,
   "metadata": {},
   "outputs": [
    {
     "name": "stdout",
     "output_type": "stream",
     "text": [
      "875/1645 publishers have 0 followers in our dataset\n"
     ]
    },
    {
     "data": {
      "image/png": "[encoded data removed]",
      "text/plain": [
       "<IPython.core.display.Image object>"
      ]
     },
     "execution_count": 180,
     "metadata": {},
     "output_type": "execute_result"
    }
   ],
   "source": [
    "# first plot distribution of who follows who\n",
    "pub_shares = wide_df.fillna(0).mean()\n",
    "print('{0}/{1} publishers have 0 followers in our dataset'.format((pub_shares > 0).sum(), len(pub_shares)))\n",
    "\n",
    "ResearchTools.ChartTools.plot_histogram_with_cdf(\n",
    "    series=pub_shares[pub_shares > 0],\n",
    "    pickle_fig=False,\n",
    "    fn='./temp/tmp.png',\n",
    "    show_graph=False,\n",
    "    name='Distribution of P(follow)',\n",
    "    rng=(0,0.01),\n",
    "    xlabel='',\n",
    "    nbins=20\n",
    ")\n",
    "Image(filename=('./temp/tmp.png'))"
   ]
  },
  {
   "cell_type": "code",
   "execution_count": 181,
   "metadata": {},
   "outputs": [
    {
     "data": {
      "image/png": "[encoded data removed]",
      "text/plain": [
       "<IPython.core.display.Image object>"
      ]
     },
     "execution_count": 181,
     "metadata": {},
     "output_type": "execute_result"
    }
   ],
   "source": [
    "# first plot distribution of who follows who\n",
    "user_num_pubs = wide_df.fillna(0).sum(axis=1)\n",
    "\n",
    "ResearchTools.ChartTools.plot_histogram_with_cdf(\n",
    "    series=user_num_pubs,\n",
    "    pickle_fig=False,\n",
    "    fn='./temp/tmp.png',\n",
    "    show_graph=False,\n",
    "    name='Distribution of P(follow)',\n",
    "    rng=(0,20),\n",
    "    xlabel='',\n",
    "    nbins=10\n",
    ")\n",
    "Image(filename=('./temp/tmp.png'))"
   ]
  },
  {
   "cell_type": "markdown",
   "metadata": {},
   "source": [
    "## Train implicit feedback collaborative filtering"
   ]
  },
  {
   "cell_type": "code",
   "execution_count": 182,
   "metadata": {},
   "outputs": [
    {
     "name": "stdout",
     "output_type": "stream",
     "text": [
      "Train N: 6196; Test N: 1550\n"
     ]
    }
   ],
   "source": [
    "# form train / test sets\n",
    "rnd = np.random.RandomState(seed=809034)\n",
    "train_share = 0.8\n",
    "train_ids = rnd.choice(df.index, size=int(len(df) * train_share), replace=False)\n",
    "train = df.loc[df.index.isin(train_ids)]\n",
    "test = df.loc[~df.index.isin(train_ids)]\n",
    "print('Train N: {0}; Test N: {1}'.format(len(train), len(test)))"
   ]
  },
  {
   "cell_type": "code",
   "execution_count": 183,
   "metadata": {},
   "outputs": [
    {
     "name": "stdout",
     "output_type": "stream",
     "text": [
      "(875, 1876)\n",
      "(7746, 3)\n"
     ]
    }
   ],
   "source": [
    "sparse_df = sparse.coo_matrix((train.follow,\n",
    "                               (train.pubid.cat.codes,\n",
    "                                train.user.cat.codes)))\n",
    "print(sparse_df.shape)\n",
    "print(long_df.shape)"
   ]
  },
  {
   "cell_type": "code",
   "execution_count": null,
   "metadata": {},
   "outputs": [],
   "source": []
  },
  {
   "cell_type": "code",
   "execution_count": 184,
   "metadata": {},
   "outputs": [
    {
     "data": {
      "application/vnd.jupyter.widget-view+json": {
       "model_id": "d99853532693494b99ebaf8640072451",
       "version_major": 2,
       "version_minor": 0
      },
      "text/plain": [
       "  0%|          | 0/15 [00:00<?, ?it/s]"
      ]
     },
     "metadata": {},
     "output_type": "display_data"
    }
   ],
   "source": [
    "model = implicit.als.AlternatingLeastSquares(factors=20)\n",
    "model.fit(sparse_df)"
   ]
  },
  {
   "cell_type": "code",
   "execution_count": 185,
   "metadata": {},
   "outputs": [
    {
     "name": "stdout",
     "output_type": "stream",
     "text": [
      "       pubid  follow   user\n",
      "0   telegram     1.0  60453\n",
      "1         f1     1.0  60453\n",
      "2  foxsports     1.0  60453\n",
      "3       uefa     1.0  60453\n",
      "4        mls     1.0  60453\n"
     ]
    },
    {
     "name": "stderr",
     "output_type": "stream",
     "text": [
      "1876it [00:00, 7173.03it/s]\n"
     ]
    }
   ],
   "source": [
    "users = long_df.user.unique()\n",
    "print(long_df.head())\n",
    "user_follows = sparse_df.T.tocsr()\n",
    "recs = {}\n",
    "for ix, uid in tqdm.tqdm(enumerate(users)):\n",
    "    user_recs = model.recommend(ix, user_follows)\n",
    "    recs[uid] = user_recs"
   ]
  },
  {
   "cell_type": "code",
   "execution_count": 186,
   "metadata": {},
   "outputs": [
    {
     "name": "stdout",
     "output_type": "stream",
     "text": [
      "[('nytimes', 1.0), ('mcall', 0.9197739), ('indystar', 0.9158319), ('fox59', 0.9158318), ('wthrcom', 0.9151375), ('lancasteronline', 0.9069477), ('sportslogosnet', 0.79920846), ('kdvr', 0.7248029), ('blackamericaweb', 0.6681534), ('pcmag', 0.62781733)]\n",
      "[('wsj', 0.9999999), ('inquirerdotnet', 0.8802379), ('repherald', 0.7669974), ('readingeagle', 0.7669974), ('weeklystandard', 0.7346485), ('mediaite', 0.63762116), ('spikedonline', 0.6241775), ('komonews', 0.62410814), ('enquirer', 0.6168904), ('kysportsradio', 0.6159776)]\n",
      "[('oann', 0.99999994), ('newsmax', 0.98667717), ('townhallcom', 0.9762006), ('chicksonright', 0.9761447), ('marksteynonline', 0.9761447), ('breitbartnews', 0.9671147), ('anncoulter', 0.96493435), ('realdailywire', 0.9510836), ('bizpacreview', 0.94959134), ('77wabcradio', 0.94959134)]\n",
      "[('huffpost', 1.0000001), ('fodorstravel', 0.85412186), ('pressenterprise', 0.84645534), ('freepress', 0.83702934), ('screencrushnews', 0.83702934), ('androidauth', 0.7629876), ('messengerpost', 0.6598751), ('local4news', 0.6550881), ('theoaklandpress', 0.6550881), ('jalopnik', 0.6312898)]\n",
      "[('newsobserver', 1.0000001), ('calgaryherald', 0.99041116), ('emirates247', 0.9846476), ('hartfordcourant', 0.9614184), ('wvgazettemail', 0.9466836), ('cumberlandtn', 0.9466835), ('calgarysun', 0.9238453), ('cnn', 0.8869342), ('rudawenglish', 0.8427366), ('ktvu', 0.71735275)]\n"
     ]
    }
   ],
   "source": [
    "pubs = ['nytimes', 'wsj', 'oann', 'huffpost', 'newsobserver']\n",
    "pub2pubcat = dict((el, ix) for ix, el in enumerate(long_df.pubid.cat.categories))\n",
    "pubcat2pub = dict((pub2pubcat[el], el) for el in pub2pubcat)\n",
    "for p in pubs:\n",
    "    pid = pub2pubcat[p]\n",
    "    related = model.similar_items(pid)\n",
    "    related = [(pubcat2pub[el[0]], el[1]) for el in related]\n",
    "    print(related)"
   ]
  },
  {
   "cell_type": "markdown",
   "metadata": {},
   "source": [
    "## Evaluate recommendations"
   ]
  },
  {
   "cell_type": "code",
   "execution_count": 187,
   "metadata": {},
   "outputs": [],
   "source": [
    "user2usercat = dict((el, ix) for ix, el in enumerate(long_df.user.cat.categories))\n",
    "usercat2user = dict((ix, el) for ix, el in enumerate(long_df.user.cat.categories))"
   ]
  },
  {
   "cell_type": "code",
   "execution_count": 190,
   "metadata": {},
   "outputs": [
    {
     "name": "stderr",
     "output_type": "stream",
     "text": [
      "100%|████████████████████████████████████████████████████████████████████████████████████████████████████████████████| 1876/1876 [00:01<00:00, 1018.40it/s]"
     ]
    },
    {
     "name": "stdout",
     "output_type": "stream",
     "text": [
      "                            OLS Regression Results                            \n",
      "==============================================================================\n",
      "Dep. Variable:        any_recommended   R-squared:                       0.024\n",
      "Model:                            OLS   Adj. R-squared:                  0.023\n",
      "Method:                 Least Squares   F-statistic:                     30.45\n",
      "Date:                Tue, 27 Jul 2021   Prob (F-statistic):           4.18e-08\n",
      "Time:                        18:31:09   Log-Likelihood:                -803.89\n",
      "No. Observations:                1238   AIC:                             1612.\n",
      "Df Residuals:                    1236   BIC:                             1622.\n",
      "Df Model:                           1                                         \n",
      "Covariance Type:            nonrobust                                         \n",
      "===================================================================================================\n",
      "                                      coef    std err          t      P>|t|      [0.025      0.975]\n",
      "---------------------------------------------------------------------------------------------------\n",
      "algorithm[collaborative_filter]     0.3990      0.019     21.416      0.000       0.362       0.436\n",
      "algorithm[naive]                    0.2536      0.019     13.612      0.000       0.217       0.290\n",
      "==============================================================================\n",
      "Omnibus:                    22125.482   Durbin-Watson:                   1.859\n",
      "Prob(Omnibus):                  0.000   Jarque-Bera (JB):              203.209\n",
      "Skew:                           0.713   Prob(JB):                     7.48e-45\n",
      "Kurtosis:                       1.619   Cond. No.                         1.00\n",
      "==============================================================================\n",
      "\n",
      "Notes:\n",
      "[1] Standard Errors assume that the covariance matrix of the errors is correctly specified.\n"
     ]
    },
    {
     "name": "stderr",
     "output_type": "stream",
     "text": [
      "\n"
     ]
    }
   ],
   "source": [
    "test_agg = pd.DataFrame(columns=['user', 'num_recommended', 'num_follow'])\n",
    "num_recs = 10\n",
    "popular_pubs = train.pubid.astype(str).value_counts()\n",
    "for user, tmp in tqdm.tqdm(test.groupby('user')):\n",
    "    # get history\n",
    "    tmp_train = train.loc[train.user == user]\n",
    "    if len(tmp_train) == 0 or len(tmp) == 0:\n",
    "        # how to evaluate these?\n",
    "        continue\n",
    "    # get recommendations\n",
    "    model_recs = model.recommend(user2usercat[user], user_follows, N=num_recs, filter_already_liked_items=True)\n",
    "    model_recs = [pubcat2pub[el[0]] for el in model_recs]\n",
    "    naive_recs = popular_pubs[~popular_pubs.index.isin(tmp_train.pubid)].index[0:5].tolist()\n",
    "    #     print(naive_recs)\n",
    "    #     print(model_recs)\n",
    "    #     print(tmp_train.pubid.tolist())\n",
    "#     print('\\n\\n')\n",
    "#     print(tmp.pubid.tolist())\n",
    "    for rec_name, recs in [('naive', naive_recs), ('collaborative_filter', model_recs)]:\n",
    "#         print(recs)\n",
    "        row_ix = len(test_agg)\n",
    "        test_agg.loc[row_ix, 'algorithm'] = rec_name\n",
    "        test_agg.loc[row_ix, 'user'] = user\n",
    "        test_agg.loc[row_ix, 'num_recommended'] = tmp.pubid.isin(recs).sum()\n",
    "        test_agg.loc[row_ix, 'num_follow'] = len(tmp)\n",
    "    #     print(tmp_train)\n",
    "    #     print(tmp)\n",
    "    #     print(recs)\n",
    "    #     print(test_agg.loc[row_ix])\n",
    "    #     print('\\n\\n\\n\\n')\n",
    "test_agg['any_recommended'] = (test_agg.num_recommended > 0).astype(int)\n",
    "mod = smf.ols('any_recommended ~ 0 + algorithm', data=test_agg).fit()\n",
    "print(mod.summary())"
   ]
  }
 ],
 "metadata": {
  "kernelspec": {
   "display_name": "Python 3",
   "language": "python",
   "name": "python3"
  },
  "language_info": {
   "codemirror_mode": {
    "name": "ipython",
    "version": 3
   },
   "file_extension": ".py",
   "mimetype": "text/x-python",
   "name": "python",
   "nbconvert_exporter": "python",
   "pygments_lexer": "ipython3",
   "version": "3.8.5"
  }
 },
 "nbformat": 4,
 "nbformat_minor": 4
}
