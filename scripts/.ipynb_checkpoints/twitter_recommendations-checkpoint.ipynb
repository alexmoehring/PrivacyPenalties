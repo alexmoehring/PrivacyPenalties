{
 "cells": [
  {
   "cell_type": "code",
   "execution_count": null,
   "metadata": {},
   "outputs": [],
   "source": []
  },
  {
   "cell_type": "code",
   "execution_count": 1,
   "metadata": {},
   "outputs": [
    {
     "name": "stdout",
     "output_type": "stream",
     "text": [
      "C:\\Users\\moehring\\Dropbox (Personal)/Projects/NewsSocialSignaling\n",
      "False\n",
      "C:\\Users\\moehring\\Dropbox (Personal)/Projects/NewsSocialSignaling\\data\\raw\\twitter\\twitter_db.db\n",
      "Ingesting publisher recommendation data.\n"
     ]
    },
    {
     "name": "stderr",
     "output_type": "stream",
     "text": [
      "100%|██████████████████████████████████████████████████████████████████████████████████████████████████████████████████████████████| 78/78 [00:00<?, ?it/s]\n"
     ]
    },
    {
     "ename": "ModuleNotFoundError",
     "evalue": "No module named 'implicit'",
     "output_type": "error",
     "traceback": [
      "\u001b[1;31m---------------------------------------------------------------------------\u001b[0m",
      "\u001b[1;31mModuleNotFoundError\u001b[0m                       Traceback (most recent call last)",
      "\u001b[1;32m<ipython-input-1-4af1ab18b164>\u001b[0m in \u001b[0;36m<module>\u001b[1;34m\u001b[0m\n\u001b[0;32m      7\u001b[0m \u001b[1;32mimport\u001b[0m \u001b[0mResearchTools\u001b[0m\u001b[1;33m\u001b[0m\u001b[1;33m\u001b[0m\u001b[0m\n\u001b[0;32m      8\u001b[0m \u001b[1;32mfrom\u001b[0m \u001b[0mIPython\u001b[0m\u001b[1;33m.\u001b[0m\u001b[0mdisplay\u001b[0m \u001b[1;32mimport\u001b[0m \u001b[0mImage\u001b[0m\u001b[1;33m\u001b[0m\u001b[1;33m\u001b[0m\u001b[0m\n\u001b[1;32m----> 9\u001b[1;33m \u001b[1;32mimport\u001b[0m \u001b[0mimplicit\u001b[0m\u001b[1;33m\u001b[0m\u001b[1;33m\u001b[0m\u001b[0m\n\u001b[0m",
      "\u001b[1;31mModuleNotFoundError\u001b[0m: No module named 'implicit'"
     ]
    }
   ],
   "source": [
    "import pandas as pd\n",
    "import NewsSocialSignaling\n",
    "import os\n",
    "import pickle\n",
    "import numpy as np\n",
    "import tqdm\n",
    "import ResearchTools\n",
    "from IPython.display import Image\n",
    "import implicit"
   ]
  },
  {
   "cell_type": "markdown",
   "metadata": {},
   "source": [
    "## Read data"
   ]
  },
  {
   "cell_type": "code",
   "execution_count": null,
   "metadata": {},
   "outputs": [],
   "source": [
    "twitter_path = 'C:/Users/moehring/Dropbox (Personal)/Projects/NewsSocialSignaling/data/raw/newspaper_quality'\n",
    "fn = os.path.join(twitter_path, 'newspaper_quality_processed_all_pubs.txt')\n",
    "\n",
    "pubs = pd.read_table(fn, sep='\\t')\n",
    "print(pubs.head())"
   ]
  },
  {
   "cell_type": "code",
   "execution_count": null,
   "metadata": {},
   "outputs": [],
   "source": [
    "# load random sample\n",
    "sample_name = 'random_sample_2013'\n",
    "\n",
    "tmp_fn = 'C:/users/moehring/Downloads/tmp_twitters.p'\n",
    "if True and os.path.exists(tmp_fn):\n",
    "    with open(tmp_fn, 'rb') as f:\n",
    "        existing_users = pickle.load(f)\n",
    "else:\n",
    "    existing_users = [el for el in NewsSocialSignaling.Database.get_all_users()\n",
    "                      if isinstance(el['extra_data'], dict)\n",
    "                      and 'sample_name' in el['extra_data']\n",
    "                      and el['extra_data']['sample_name'] == sample_name\n",
    "                      and not el['most_recent'].protected\n",
    "                      ]\n",
    "    with open(tmp_fn, 'wb') as f:\n",
    "        pickle.dump(existing_users, f)"
   ]
  },
  {
   "cell_type": "markdown",
   "metadata": {},
   "source": [
    "## Process / clean data"
   ]
  },
  {
   "cell_type": "code",
   "execution_count": null,
   "metadata": {},
   "outputs": [],
   "source": [
    "# ingest into user / publisher matrix\n",
    "assert len(pubs.single_twitter_handle) == len(pubs.single_twitter_handle.unique())\n",
    "df = pd.DataFrame(index=[el['id'] for el in existing_users], columns=pubs.single_twitter_handle)\n",
    "\n",
    "pubid2twitter = dict((row[1]['twitter_id'], row[1]['single_twitter_handle']) for row in pubs.iterrows())\n",
    "for user in tqdm.tqdm(existing_users):\n",
    "    friends = user['most_recent_friends']\n",
    "    pub_friends = [el for el in friends if el in pubid2twitter]\n",
    "    for p in pub_friends:\n",
    "        df.loc[user['id'], pubid2twitter[p]] = 1"
   ]
  },
  {
   "cell_type": "markdown",
   "metadata": {},
   "source": [
    "## Summaries"
   ]
  },
  {
   "cell_type": "code",
   "execution_count": null,
   "metadata": {},
   "outputs": [],
   "source": [
    "# first plot distribution of who follows who\n",
    "pub_shares = df.fillna(0).mean()\n",
    "print('{0}/{1} publishers have 0 followers in our dataset'.format((pub_shares > 0).sum(), len(pub_shares)))\n",
    "\n",
    "ResearchTools.ChartTools.plot_histogram_with_cdf(\n",
    "    series=pub_shares[pub_shares > 0],\n",
    "    pickle_fig=False,\n",
    "    fn='./temp/tmp.png',\n",
    "    show_graph=False,\n",
    "    name='Distribution of P(follow)',\n",
    "    rng=(0,0.01),\n",
    "    xlabel='',\n",
    "    nbins=20\n",
    ")\n",
    "Image(filename=('./temp/tmp.png'))"
   ]
  },
  {
   "cell_type": "markdown",
   "metadata": {},
   "source": [
    "## Train implicit feedback collaborative filtering"
   ]
  },
  {
   "cell_type": "code",
   "execution_count": null,
   "metadata": {},
   "outputs": [],
   "source": [
    "# form train / test sets\n",
    "# rnd = np.random.RandomState(seed=809034)\n",
    "# train_share = 0.9\n",
    "# train_ids = rnd.choice(df.index, size=int(len(existing_users) * train_share), replace=False)\n",
    "# train = df.loc[df.index.isin(train_ids)]\n",
    "# test = df.loc[~df.index.isin(train_ids)]\n",
    "# print('Train N: {0}; Test N: {1}'.format(len(train), len(test)))"
   ]
  },
  {
   "cell_type": "code",
   "execution_count": null,
   "metadata": {},
   "outputs": [],
   "source": [
    "# load into \n"
   ]
  }
 ],
 "metadata": {
  "kernelspec": {
   "display_name": "Python 3",
   "language": "python",
   "name": "python3"
  },
  "language_info": {
   "codemirror_mode": {
    "name": "ipython",
    "version": 3
   },
   "file_extension": ".py",
   "mimetype": "text/x-python",
   "name": "python",
   "nbconvert_exporter": "python",
   "pygments_lexer": "ipython3",
   "version": "3.8.5"
  }
 },
 "nbformat": 4,
 "nbformat_minor": 4
}
